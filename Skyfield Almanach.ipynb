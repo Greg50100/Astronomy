{
 "cells": [
  {
   "cell_type": "markdown",
   "metadata": {},
   "source": [
    "# Skyfield Almanach\n",
    "Voici les importations et les objets qui piloteront les exemples ci-dessous :"
   ]
  },
  {
   "cell_type": "code",
   "execution_count": 90,
   "metadata": {},
   "outputs": [],
   "source": [
    "from skyfield import almanac\n",
    "from skyfield.api import N, S, E, W, load, wgs84\n",
    "\n",
    "ts = load.timescale()\n",
    "eph = load('de421.bsp')\n",
    "sun = eph['Sun']\n",
    "cherbourg = wgs84.latlon(49.6386 * N, 1.6163 * W)\n",
    "observer = eph['Earth'] + cherbourg"
   ]
  },
  {
   "cell_type": "markdown",
   "metadata": {},
   "source": [
    "### Temps d’arrondi à la minute près"
   ]
  },
  {
   "cell_type": "code",
   "execution_count": 91,
   "metadata": {},
   "outputs": [
    {
     "name": "stdout",
     "output_type": "stream",
     "text": [
      "2024-08-30 23:54\n"
     ]
    }
   ],
   "source": [
    "from datetime import datetime, timedelta\n",
    "import pytz\n",
    "\n",
    "def nearest_minute(dt):\n",
    "    return (dt + timedelta(seconds=30)).replace(second=0, microsecond=0)\n",
    "\n",
    "# Utiliser l'heure actuelle avec le fuseau horaire de Paris\n",
    "paris_tz = pytz.timezone('Europe/Paris')\n",
    "\n",
    "t = datetime.now(paris_tz)\n",
    "\n",
    "dt = nearest_minute(t)\n",
    "print(dt.strftime('%Y-%m-%d %H:%M'))\n",
    "\n"
   ]
  },
  {
   "cell_type": "markdown",
   "metadata": {},
   "source": [
    "Les résultats devraient alors concorder avec les tableaux produits par l’USNO et utilisés dans Skyfield"
   ]
  },
  {
   "cell_type": "markdown",
   "metadata": {},
   "source": [
    "## Levers et couchers"
   ]
  },
  {
   "cell_type": "markdown",
   "metadata": {},
   "source": [
    "### Lever et coucher du soleil"
   ]
  },
  {
   "cell_type": "code",
   "execution_count": 92,
   "metadata": {},
   "outputs": [
    {
     "name": "stdout",
     "output_type": "stream",
     "text": [
      "Sunrise: 2024-08-30 07:20\n",
      "Sunset: 2024-08-30 20:53\n"
     ]
    }
   ],
   "source": [
    "# Définir les temps de début et de fin pour le calcul\n",
    "t0 = ts.utc(t.year, t.month, t.day)\n",
    "t1 = ts.utc(t0.utc_datetime() + timedelta(days=1))\n",
    "\n",
    "# Calculer les heures de lever et de coucher du soleil\n",
    "f_sun = almanac.sunrise_sunset(eph, cherbourg)\n",
    "times_sun, events_sun = almanac.find_discrete(t0, t1, f_sun)\n",
    "\n",
    "for t, e in zip(times_sun, events_sun):\n",
    "    rounded_time = nearest_minute(t.utc_datetime())\n",
    "    rounded_time_paris = rounded_time.astimezone(paris_tz)\n",
    "    print(f\"{'Sunrise' if e else 'Sunset'}: {rounded_time_paris.strftime('%Y-%m-%d %H:%M')}\")\n"
   ]
  },
  {
   "cell_type": "code",
   "execution_count": 93,
   "metadata": {},
   "outputs": [
    {
     "name": "stdout",
     "output_type": "stream",
     "text": [
      "Moonrise: 2024-08-30 02:46\n",
      "Moonset: 2024-08-30 19:52\n"
     ]
    }
   ],
   "source": [
    "# Calculer les heures de lever et de coucher de la lune\n",
    "def moonrise_moonset(eph, location):\n",
    "    t, y = almanac.find_discrete(t0, t1, almanac.risings_and_settings(eph, eph['Moon'], location))\n",
    "    return t, y\n",
    "\n",
    "times_moon, events_moon = moonrise_moonset(eph, cherbourg)\n",
    "\n",
    "for t, e in zip(times_moon, events_moon):\n",
    "    rounded_time = nearest_minute(t.utc_datetime())\n",
    "    rounded_time_paris = rounded_time.astimezone(paris_tz)\n",
    "    print(f\"{'Moonrise' if e else 'Moonset'}: {rounded_time_paris.strftime('%Y-%m-%d %H:%M')}\")\n"
   ]
  },
  {
   "cell_type": "code",
   "execution_count": 94,
   "metadata": {},
   "outputs": [
    {
     "name": "stdout",
     "output_type": "stream",
     "text": [
      "Mercury rise: 2024-08-30 05:59\n",
      "Mercury set: 2024-08-30 20:09\n",
      "Venus rise: 2024-08-30 09:29\n",
      "Venus set: 2024-08-30 21:41\n",
      "Mars set: 2024-08-30 17:22\n",
      "Mars rise: 2024-08-31 01:09\n",
      "Jupiter set: 2024-08-30 16:41\n",
      "Jupiter rise: 2024-08-31 00:40\n",
      "Saturn set: 2024-08-30 08:14\n",
      "Saturn rise: 2024-08-30 21:14\n",
      "Uranus set: 2024-08-30 14:51\n",
      "Uranus rise: 2024-08-30 23:27\n",
      "Neptune set: 2024-08-30 09:25\n",
      "Neptune rise: 2024-08-30 21:31\n"
     ]
    }
   ],
   "source": [
    "# Calculer les heures de lever et de coucher des planètes\n",
    "planets = {\n",
    "    'Mercury': 199,\n",
    "    'Venus': 299,\n",
    "    'Mars': 499,\n",
    "    'Jupiter': 5,\n",
    "    'Saturn': 6,\n",
    "    'Uranus': 7,\n",
    "    'Neptune': 8\n",
    "}\n",
    "\n",
    "for planet, code in planets.items():\n",
    "    f_planet = almanac.risings_and_settings(eph, eph[code], cherbourg)\n",
    "    times_planet, events_planet = almanac.find_discrete(t0, t1, f_planet)\n",
    "    for t, e in zip(times_planet, events_planet):\n",
    "        rounded_time = nearest_minute(t.utc_datetime())\n",
    "        rounded_time_paris = rounded_time.astimezone(paris_tz)\n",
    "        print(f\"{planet} {'rise' if e else 'set'}: {rounded_time_paris.strftime('%Y-%m-%d %H:%M')}\")\n"
   ]
  }
 ],
 "metadata": {
  "kernelspec": {
   "display_name": "Python 3",
   "language": "python",
   "name": "python3"
  },
  "language_info": {
   "codemirror_mode": {
    "name": "ipython",
    "version": 3
   },
   "file_extension": ".py",
   "mimetype": "text/x-python",
   "name": "python",
   "nbconvert_exporter": "python",
   "pygments_lexer": "ipython3",
   "version": "3.11.9"
  }
 },
 "nbformat": 4,
 "nbformat_minor": 2
}
