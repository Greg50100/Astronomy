{
 "cells": [
  {
   "cell_type": "markdown",
   "metadata": {},
   "source": [
    "# Skyfield Almanach\n",
    "Voici les importations et les objets qui piloteront les exemples ci-dessous :"
   ]
  },
  {
   "cell_type": "code",
   "execution_count": 2,
   "metadata": {},
   "outputs": [],
   "source": [
    "from skyfield import almanac, eclipselib\n",
    "from skyfield.api import N, S, E, W, load, wgs84, Star\n",
    "from skyfield.earthlib import refraction\n",
    "from skyfield.framelib import ecliptic_frame\n",
    "\n",
    "ts = load.timescale()\n",
    "eph = load('de421.bsp')\n",
    "sun = eph['Sun']\n",
    "cherbourg = wgs84.latlon(49.6386 * N, 1.6163 * W)\n",
    "observer = eph['Earth'] + cherbourg"
   ]
  },
  {
   "cell_type": "markdown",
   "metadata": {},
   "source": [
    "### Temps d’arrondi à la minute près"
   ]
  },
  {
   "cell_type": "code",
   "execution_count": 3,
   "metadata": {},
   "outputs": [
    {
     "name": "stdout",
     "output_type": "stream",
     "text": [
      "2024-09-05 18:44\n"
     ]
    }
   ],
   "source": [
    "from datetime import datetime, timedelta\n",
    "import pytz\n",
    "\n",
    "def nearest_minute(dt):\n",
    "    return (dt + timedelta(seconds=30)).replace(second=0, microsecond=0)\n",
    "\n",
    "# Utiliser l'heure actuelle avec le fuseau horaire de Paris\n",
    "paris_tz = pytz.timezone('Europe/Paris')\n",
    "\n",
    "t = datetime.now(paris_tz)\n",
    "\n",
    "dt = nearest_minute(t)\n",
    "print(dt.strftime('%Y-%m-%d %H:%M'))\n",
    "\n"
   ]
  },
  {
   "cell_type": "markdown",
   "metadata": {},
   "source": [
    "Les résultats devraient alors concorder avec les tableaux produits par l’USNO et utilisés dans Skyfield"
   ]
  },
  {
   "cell_type": "markdown",
   "metadata": {},
   "source": [
    "## Levers et couchers"
   ]
  },
  {
   "cell_type": "markdown",
   "metadata": {},
   "source": [
    "### Lever et coucher du soleil"
   ]
  },
  {
   "cell_type": "code",
   "execution_count": 4,
   "metadata": {},
   "outputs": [
    {
     "name": "stdout",
     "output_type": "stream",
     "text": [
      "Sunrise: 2024-09-05 07:28\n",
      "Sunset: 2024-09-05 20:41\n"
     ]
    }
   ],
   "source": [
    "# Définir les temps de début et de fin pour le calcul\n",
    "t0 = ts.utc(t.year, t.month, t.day)\n",
    "t1 = ts.utc(t0.utc_datetime() + timedelta(days=1))\n",
    "\n",
    "# Calculer les heures de lever et de coucher du soleil\n",
    "f_sun = almanac.sunrise_sunset(eph, cherbourg)\n",
    "times_sun, events_sun = almanac.find_discrete(t0, t1, f_sun)\n",
    "\n",
    "for t, e in zip(times_sun, events_sun):\n",
    "    rounded_time = nearest_minute(t.utc_datetime())\n",
    "    rounded_time_paris = rounded_time.astimezone(paris_tz)\n",
    "    print(f\"{'Sunrise' if e else 'Sunset'}: {rounded_time_paris.strftime('%Y-%m-%d %H:%M')}\")\n"
   ]
  },
  {
   "cell_type": "markdown",
   "metadata": {},
   "source": [
    "#### Midi solaire"
   ]
  },
  {
   "cell_type": "code",
   "execution_count": 5,
   "metadata": {},
   "outputs": [
    {
     "name": "stdout",
     "output_type": "stream",
     "text": [
      "Solar noon: 2024-09-05 14:04:59\n"
     ]
    }
   ],
   "source": [
    "now = paris_tz.localize(datetime.now())\n",
    "midnight = now.replace(hour=0, minute=0, second=0, microsecond=0)\n",
    "next_midnight = midnight + timedelta(days=1)\n",
    "\n",
    "\n",
    "t0 = ts.from_datetime(midnight)\n",
    "t1 = ts.from_datetime(next_midnight)\n",
    "\n",
    "f = almanac.meridian_transits(eph, eph['Sun'], cherbourg)\n",
    "times, events = almanac.find_discrete(t0, t1, f)\n",
    "\n",
    "# Select transits instead of antitransits.\n",
    "times = times[events == 1]\n",
    "\n",
    "tzero = times[0]\n",
    "tstr = str(tzero.astimezone(paris_tz))[:19]\n",
    "print('Solar noon:', tstr)"
   ]
  },
  {
   "cell_type": "code",
   "execution_count": 6,
   "metadata": {},
   "outputs": [
    {
     "name": "stdout",
     "output_type": "stream",
     "text": [
      "Moon phase: 29.3 degrees\n",
      "2024-09-05 18:44:29.443307+02:00\n"
     ]
    }
   ],
   "source": [
    "# from skyfield.api import load\n",
    "# from skyfield import almanac\n",
    "\n",
    "ts = load.timescale()\n",
    "\n",
    "# Utiliser l'heure actuelle avec le fuseau horaire de Paris\n",
    "paris_tz = pytz.timezone('Europe/Paris')\n",
    "t = datetime.now(paris_tz)\n",
    "\n",
    "# Convertir l'objet datetime en une instance de Time\n",
    "t_skyfield = ts.utc(t.year, t.month, t.day, t.hour, t.minute, t.second)\n",
    "\n",
    "# Calculer la phase de la lune\n",
    "phase = almanac.moon_phase(eph, t_skyfield)\n",
    "\n",
    "# Afficher la phase de la lune en degrés\n",
    "print('Moon phase: {:.1f} degrees'.format(phase.degrees))\n",
    "print(t)"
   ]
  },
  {
   "cell_type": "markdown",
   "metadata": {},
   "source": [
    "### Lever et coucher de la Lune"
   ]
  },
  {
   "cell_type": "code",
   "execution_count": 7,
   "metadata": {},
   "outputs": [
    {
     "name": "stdout",
     "output_type": "stream",
     "text": [
      "Moonrise: 2024-09-05 09:52\n",
      "Moonset: 2024-09-05 21:23\n"
     ]
    }
   ],
   "source": [
    "# Calculer les heures de lever et de coucher de la lune\n",
    "def moonrise_moonset(eph, location):\n",
    "    t, y = almanac.find_discrete(t0, t1, almanac.risings_and_settings(eph, eph['Moon'], location))\n",
    "    return t, y\n",
    "\n",
    "times_moon, events_moon = moonrise_moonset(eph, cherbourg)\n",
    "\n",
    "for t, e in zip(times_moon, events_moon):\n",
    "    rounded_time = nearest_minute(t.utc_datetime())\n",
    "    rounded_time_paris = rounded_time.astimezone(paris_tz)\n",
    "    print(f\"{'Moonrise' if e else 'Moonset'}: {rounded_time_paris.strftime('%Y-%m-%d %H:%M')}\")\n"
   ]
  },
  {
   "cell_type": "markdown",
   "metadata": {},
   "source": [
    "### Lever et coucher des planètes"
   ]
  },
  {
   "cell_type": "code",
   "execution_count": 8,
   "metadata": {},
   "outputs": [
    {
     "name": "stdout",
     "output_type": "stream",
     "text": [
      "Mercury rise: 2024-09-05 05:49\n",
      "Mercury set: 2024-09-05 20:05\n",
      "Venus rise: 2024-09-05 09:47\n",
      "Venus set: 2024-09-05 21:30\n",
      "Mars rise: 2024-09-05 01:02\n",
      "Mars set: 2024-09-05 17:15\n",
      "Jupiter rise: 2024-09-05 00:23\n",
      "Jupiter set: 2024-09-05 16:20\n",
      "Saturn set: 2024-09-05 07:48\n",
      "Saturn rise: 2024-09-05 20:50\n",
      "Uranus set: 2024-09-05 14:28\n",
      "Uranus rise: 2024-09-05 23:03\n",
      "Neptune set: 2024-09-05 09:01\n",
      "Neptune rise: 2024-09-05 21:07\n"
     ]
    }
   ],
   "source": [
    "# Calculer les heures de lever et de coucher des planètes\n",
    "planets = {\n",
    "    'Mercury': 199,\n",
    "    'Venus': 299,\n",
    "    'Mars': 499,\n",
    "    'Jupiter': 5,\n",
    "    'Saturn': 6,\n",
    "    'Uranus': 7,\n",
    "    'Neptune': 8\n",
    "}\n",
    "\n",
    "for planet, code in planets.items():\n",
    "    f_planet = almanac.risings_and_settings(eph, eph[code], cherbourg)\n",
    "    times_planet, events_planet = almanac.find_discrete(t0, t1, f_planet)\n",
    "    for t, e in zip(times_planet, events_planet):\n",
    "        rounded_time = nearest_minute(t.utc_datetime())\n",
    "        rounded_time_paris = rounded_time.astimezone(paris_tz)\n",
    "        print(f\"{planet} {'rise' if e else 'set'}: {rounded_time_paris.strftime('%Y-%m-%d %H:%M')}\")\n"
   ]
  },
  {
   "cell_type": "markdown",
   "metadata": {},
   "source": [
    "#### Calcul avec l'angle de refraction"
   ]
  },
  {
   "cell_type": "code",
   "execution_count": 9,
   "metadata": {},
   "outputs": [
    {
     "name": "stdout",
     "output_type": "stream",
     "text": [
      "Refraction at the horizon: 33.38 arcminutes\n",
      "\n",
      "Mars rises: 2024-09-05 01:02\n",
      "Mars sets:  2024-09-05 17:15\n"
     ]
    }
   ],
   "source": [
    "# from skyfield.earthlib import refraction\n",
    "\n",
    "# Calculer la réfraction\n",
    "r = refraction(0.0, temperature_C=20.0, pressure_mbar=1013.0)\n",
    "print('Refraction at the horizon: %.2f arcminutes\\n' % (r * 60.0))\n",
    "\n",
    "# Trouver les heures de lever et de coucher de Mars\n",
    "t, y = almanac.find_risings(observer, eph['Mars'], t0, t1, horizon_degrees=-r)\n",
    "for rise_time in t:\n",
    "    rounded_time_paris = nearest_minute(rise_time.utc_datetime().astimezone(paris_tz))\n",
    "    print('Mars rises:', rounded_time_paris.strftime('%Y-%m-%d %H:%M'))\n",
    "\n",
    "t, y = almanac.find_settings(observer, eph['Mars'], t0, t1, horizon_degrees=-r)\n",
    "for set_time in t:\n",
    "    rounded_time_paris = nearest_minute(set_time.utc_datetime().astimezone(paris_tz))\n",
    "    print('Mars sets: ', rounded_time_paris.strftime('%Y-%m-%d %H:%M'))"
   ]
  },
  {
   "cell_type": "markdown",
   "metadata": {},
   "source": [
    "## Création d'une ascension droite et une déclinaison d'un point fixe"
   ]
  },
  {
   "cell_type": "code",
   "execution_count": 10,
   "metadata": {},
   "outputs": [
    {
     "name": "stdout",
     "output_type": "stream",
     "text": [
      "The Galactic Center rises at 2024-09-05 17:31\n"
     ]
    }
   ],
   "source": [
    "# from skyfield.api import Star\n",
    "\n",
    "galactic_center = Star(ra_hours=(17, 45, 40.04),\n",
    "                       dec_degrees=(-29, 0, 28.1))\n",
    "\n",
    "t, y = almanac.find_risings(observer, galactic_center, t0, t1)\n",
    "for rise_time in t:\n",
    "    rounded_time_paris = nearest_minute(rise_time.utc_datetime().astimezone(paris_tz))\n",
    "    print('The Galactic Center rises at', rounded_time_paris.strftime('%Y-%m-%d %H:%M'))"
   ]
  },
  {
   "cell_type": "markdown",
   "metadata": {},
   "source": [
    "## Saisons"
   ]
  },
  {
   "cell_type": "code",
   "execution_count": 11,
   "metadata": {},
   "outputs": [
    {
     "name": "stdout",
     "output_type": "stream",
     "text": [
      "2 Autumnal Equinox 2024-09-22 14:44\n",
      "3 Winter Solstice 2024-12-21 10:21\n",
      "0 Vernal Equinox 2025-03-20 10:01\n",
      "1 Summer Solstice 2025-06-21 04:42\n"
     ]
    }
   ],
   "source": [
    "# t0 = ts.utc(t.year, t.month, t.day)\n",
    "t2 = ts.utc(t0.utc_datetime() + timedelta(days=365))\n",
    "t, y = almanac.find_discrete(t0, t2, almanac.seasons(eph))\n",
    "\n",
    "for yi, ti in zip(y, t):\n",
    "    rounded_time_paris = nearest_minute(ti.utc_datetime().astimezone(paris_tz))\n",
    "    print(yi, almanac.SEASON_EVENTS[yi], rounded_time_paris.strftime('%Y-%m-%d %H:%M'))"
   ]
  },
  {
   "cell_type": "markdown",
   "metadata": {},
   "source": [
    "## Phases de la Lune"
   ]
  },
  {
   "cell_type": "code",
   "execution_count": 12,
   "metadata": {},
   "outputs": [
    {
     "name": "stdout",
     "output_type": "stream",
     "text": [
      "Moon phase: 29.3 degrees\n",
      "2024-09-05 18:44:29.872296+02:00\n"
     ]
    }
   ],
   "source": [
    "# from skyfield.api import load\n",
    "# from skyfield import almanac\n",
    "\n",
    "\n",
    "\n",
    "# Utiliser l'heure actuelle avec le fuseau horaire de Paris\n",
    "\n",
    "t = datetime.now(paris_tz)\n",
    "\n",
    "# Calculer la phase de la lune\n",
    "phase = almanac.moon_phase(eph, t_skyfield)\n",
    "\n",
    "# Afficher la phase de la lune en degrés\n",
    "print('Moon phase: {:.1f} degrees'.format(phase.degrees))\n",
    "print(t)\n"
   ]
  },
  {
   "cell_type": "code",
   "execution_count": 13,
   "metadata": {},
   "outputs": [
    {
     "name": "stdout",
     "output_type": "stream",
     "text": [
      "[]\n",
      "[]\n",
      "[]\n"
     ]
    }
   ],
   "source": [
    "# t0 = ts.utc(2018, 9, 1)\n",
    "# t1 = ts.utc(2018, 9, 10)\n",
    "t, y = almanac.find_discrete(t0, t1, almanac.moon_phases(eph))\n",
    "\n",
    "print(t.utc_iso())\n",
    "print(y)\n",
    "print([almanac.MOON_PHASES[yi] for yi in y])"
   ]
  },
  {
   "cell_type": "markdown",
   "metadata": {},
   "source": [
    "#### Quelle est la phase de la Lune ce soir ?"
   ]
  },
  {
   "cell_type": "code",
   "execution_count": 14,
   "metadata": {},
   "outputs": [
    {
     "name": "stdout",
     "output_type": "stream",
     "text": [
      "Phase (0°–360°): 29.3\n",
      "Percent illuminated: 6.4%\n"
     ]
    }
   ],
   "source": [
    "eph = load('de421.bsp')\n",
    "sun, moon, earth = eph['sun'], eph['moon'], eph['earth']\n",
    "\n",
    "e = earth.at(t_skyfield)\n",
    "s = e.observe(sun).apparent()\n",
    "m = e.observe(moon).apparent()\n",
    "\n",
    "_, slon, _ = s.frame_latlon(ecliptic_frame)\n",
    "_, mlon, _ = m.frame_latlon(ecliptic_frame)\n",
    "phase = (mlon.degrees - slon.degrees) % 360.0\n",
    "\n",
    "percent = 100.0 * m.fraction_illuminated(sun)\n",
    "\n",
    "print('Phase (0°–360°): {0:.1f}'.format(phase))\n",
    "print('Percent illuminated: {0:.1f}%'.format(percent))"
   ]
  },
  {
   "cell_type": "markdown",
   "metadata": {},
   "source": [
    "#### Quel est le diamètre angulaire de la Lune, compte tenu de son rayon ?"
   ]
  },
  {
   "cell_type": "code",
   "execution_count": 15,
   "metadata": {},
   "outputs": [
    {
     "name": "stdout",
     "output_type": "stream",
     "text": [
      "3528.207825 arcseconds\n",
      "00deg 58' 48.2\"\n",
      "406219.7929932135\n",
      "2024-09-05 18:44\n"
     ]
    }
   ],
   "source": [
    "import numpy as np\n",
    "from skyfield.api import Angle, load\n",
    "\n",
    "ts = load.timescale()\n",
    "time = t_skyfield\n",
    "\n",
    "eph = load('de421.bsp')\n",
    "earth, moon = eph['earth'], eph['moon']\n",
    "radius_km = 3474.2\n",
    "\n",
    "astrometric = earth.at(time).observe(moon)\n",
    "ra, dec, distance = astrometric.apparent().radec()\n",
    "apparent_diameter = Angle(radians=np.arcsin(radius_km / distance.km) * 2.0)\n",
    "print('{:.6f} arcseconds'.format(apparent_diameter.arcseconds()))\n",
    "print(apparent_diameter)\n",
    "print(distance.km)\n",
    "print(t_skyfield.utc_strftime('%Y-%m-%d %H:%M'))"
   ]
  },
  {
   "cell_type": "markdown",
   "metadata": {},
   "source": [
    "##### Quel est le diamètre angulaire d’une planète, compte tenu de son rayon ? Exemple"
   ]
  },
  {
   "cell_type": "code",
   "execution_count": 16,
   "metadata": {},
   "outputs": [
    {
     "name": "stdout",
     "output_type": "stream",
     "text": [
      "2.360998 arcseconds\n",
      "00deg 00' 02.4\"\n",
      "4326934029.055356\n",
      "2024-09-05 18:44\n"
     ]
    }
   ],
   "source": [
    "import numpy as np\n",
    "from skyfield.api import Angle, load\n",
    "\n",
    "ts = load.timescale()\n",
    "time = t_skyfield\n",
    "\n",
    "eph = load('de421.bsp')\n",
    "earth, neptune = eph['earth'], eph['neptune barycenter']\n",
    "radius_km = 24764.0\n",
    "\n",
    "astrometric = earth.at(time).observe(neptune)\n",
    "ra, dec, distance = astrometric.apparent().radec()\n",
    "apparent_diameter = Angle(radians=np.arcsin(radius_km / distance.km) * 2.0)\n",
    "print('{:.6f} arcseconds'.format(apparent_diameter.arcseconds()))\n",
    "print(apparent_diameter)\n",
    "print(distance.km)\n",
    "print(t_skyfield.utc_strftime('%Y-%m-%d %H:%M'))"
   ]
  },
  {
   "cell_type": "markdown",
   "metadata": {},
   "source": [
    "### Nœud lunaire"
   ]
  },
  {
   "cell_type": "code",
   "execution_count": 17,
   "metadata": {},
   "outputs": [
    {
     "name": "stdout",
     "output_type": "stream",
     "text": [
      "['2024-09-05T05:43:23Z']\n",
      "[0]\n",
      "['descending']\n"
     ]
    }
   ],
   "source": [
    "# t0 = ts.utc(2020, 4, 22)\n",
    "# t1 = ts.utc(2020, 5, 22)\n",
    "t, y = almanac.find_discrete(t0, t1, almanac.moon_nodes(eph))\n",
    "\n",
    "print(t.utc_iso())\n",
    "print(y)\n",
    "print([almanac.MOON_NODES[yi] for yi in y])"
   ]
  },
  {
   "cell_type": "markdown",
   "metadata": {},
   "source": [
    "### Opposition et conjonction"
   ]
  },
  {
   "cell_type": "code",
   "execution_count": 18,
   "metadata": {},
   "outputs": [
    {
     "name": "stdout",
     "output_type": "stream",
     "text": [
      "Prochaine opposition de Mars : 2025-01-16T02:38:35Z\n",
      "Aucune conjonction trouvée dans la période spécifiée.\n"
     ]
    }
   ],
   "source": [
    "\n",
    "\n",
    "# Charger les échelles de temps\n",
    "\n",
    "t0 = ts.utc(datetime.now().year, datetime.now().month, datetime.now().day)\n",
    "t1 = ts.utc((datetime.now() + timedelta(days=365)).year, (datetime.now() + timedelta(days=365)).month, (datetime.now() + timedelta(days=365)).day)\n",
    "\n",
    "\n",
    "\n",
    "# Fonction pour trouver les oppositions et conjonctions de Mars\n",
    "f = almanac.oppositions_conjunctions(eph, eph['mars'])\n",
    "t, y = almanac.find_discrete(t0, t1, f)\n",
    "\n",
    "# Filtrer pour obtenir la prochaine opposition\n",
    "now = ts.now()\n",
    "next_opposition = None\n",
    "next_conjunction = None\n",
    "\n",
    "# for ti, yi in zip(t, y):\n",
    "#     if ti > now and yi == 1:\n",
    "#         next_opposition = ti\n",
    "#         break\n",
    "\n",
    "for ti, yi in zip(t, y):\n",
    "    if ti > now and yi == 1:\n",
    "        next_opposition = ti\n",
    "        break\n",
    "    if ti > now and yi == 0:\n",
    "        next_conjunction = ti\n",
    "        break\n",
    "    \n",
    "\n",
    "# # Afficher le résultat\n",
    "# if next_opposition is not None:\n",
    "#     print(f\"Prochaine opposition de Mars : {next_opposition.utc_iso()}\")\n",
    "# else:\n",
    "#     print(\"Aucune opposition trouvée dans la période spécifiée.\")\n",
    "\n",
    "if next_opposition is not None:\n",
    "    print(f\"Prochaine opposition de Mars : {next_opposition.utc_iso()}\")\n",
    "else:\n",
    "    print(\"Aucune opposition trouvée dans la période spécifiée.\")\n",
    "\n",
    "if next_conjunction is not None:\n",
    "    print(f\"Prochaine conjonction de Mars : {next_conjunction.utc_iso()}\")\n",
    "else:\n",
    "    print(\"Aucune conjonction trouvée dans la période spécifiée.\")"
   ]
  },
  {
   "cell_type": "markdown",
   "metadata": {},
   "source": [
    "### Transits méridiens"
   ]
  },
  {
   "cell_type": "code",
   "execution_count": 19,
   "metadata": {},
   "outputs": [
    {
     "name": "stdout",
     "output_type": "stream",
     "text": [
      "['2024-09-05 07:08', '2024-09-06 07:07', '2024-09-07 07:06', '2024-09-08 07:04', '2024-09-09 07:03', '2024-09-10 07:01', '2024-09-11 07:00', '2024-09-12 06:59', '2024-09-13 06:57', '2024-09-14 06:56', '2024-09-15 06:55', '2024-09-16 06:53', '2024-09-17 06:52', '2024-09-18 06:50', '2024-09-19 06:49', '2024-09-20 06:47', '2024-09-21 06:46', '2024-09-22 06:44', '2024-09-23 06:43', '2024-09-24 06:41', '2024-09-25 06:40', '2024-09-26 06:38', '2024-09-27 06:36', '2024-09-28 06:35', '2024-09-29 06:33', '2024-09-30 06:32', '2024-10-01 06:30', '2024-10-02 06:28', '2024-10-03 06:26', '2024-10-04 06:25', '2024-10-05 06:23', '2024-10-06 06:21', '2024-10-07 06:20', '2024-10-08 06:18', '2024-10-09 06:16', '2024-10-10 06:14', '2024-10-11 06:12', '2024-10-12 06:10', '2024-10-13 06:09', '2024-10-14 06:07', '2024-10-15 06:05', '2024-10-16 06:03', '2024-10-17 06:01', '2024-10-18 05:59', '2024-10-19 05:57', '2024-10-20 05:55', '2024-10-21 05:53', '2024-10-22 05:50', '2024-10-23 05:48', '2024-10-24 05:46', '2024-10-25 05:44', '2024-10-26 05:42', '2024-10-27 05:40', '2024-10-28 05:37', '2024-10-29 05:35', '2024-10-30 05:33', '2024-10-31 05:30', '2024-11-01 05:28', '2024-11-02 05:26', '2024-11-03 05:23', '2024-11-04 05:21', '2024-11-05 05:18', '2024-11-06 05:16', '2024-11-07 05:13', '2024-11-08 05:11', '2024-11-09 05:08', '2024-11-10 05:05', '2024-11-11 05:03', '2024-11-12 05:00', '2024-11-13 04:57', '2024-11-14 04:54', '2024-11-15 04:52', '2024-11-16 04:49', '2024-11-17 04:46', '2024-11-18 04:43', '2024-11-19 04:40', '2024-11-20 04:37', '2024-11-21 04:34', '2024-11-22 04:31', '2024-11-23 04:27', '2024-11-24 04:24', '2024-11-25 04:21', '2024-11-26 04:18', '2024-11-27 04:14', '2024-11-28 04:11', '2024-11-29 04:07', '2024-11-30 04:04', '2024-12-01 04:00', '2024-12-02 03:57', '2024-12-03 03:53', '2024-12-04 03:49', '2024-12-05 03:46', '2024-12-06 03:42', '2024-12-07 03:38', '2024-12-08 03:34', '2024-12-09 03:30', '2024-12-10 03:26', '2024-12-11 03:22', '2024-12-12 03:18', '2024-12-13 03:14', '2024-12-14 03:09', '2024-12-15 03:05', '2024-12-16 03:01', '2024-12-17 02:56', '2024-12-18 02:52', '2024-12-19 02:47', '2024-12-20 02:43', '2024-12-21 02:38', '2024-12-22 02:33', '2024-12-23 02:28', '2024-12-24 02:24', '2024-12-25 02:19', '2024-12-26 02:14', '2024-12-27 02:09', '2024-12-28 02:04', '2024-12-29 01:59', '2024-12-30 01:53', '2024-12-31 01:48', '2025-01-01 01:43', '2025-01-02 01:38', '2025-01-03 01:32', '2025-01-04 01:27', '2025-01-05 01:22', '2025-01-06 01:16', '2025-01-07 01:11', '2025-01-08 01:05', '2025-01-09 01:00', '2025-01-10 00:54', '2025-01-11 00:48', '2025-01-12 00:43', '2025-01-13 00:37', '2025-01-14 00:32', '2025-01-15 00:26', '2025-01-16 00:20', '2025-01-17 00:15', '2025-01-18 00:09', '2025-01-19 00:03', '2025-01-19 23:58', '2025-01-20 23:52', '2025-01-21 23:47', '2025-01-22 23:41', '2025-01-23 23:35', '2025-01-24 23:30', '2025-01-25 23:24', '2025-01-26 23:19', '2025-01-27 23:14', '2025-01-28 23:08', '2025-01-29 23:03', '2025-01-30 22:58', '2025-01-31 22:52', '2025-02-01 22:47', '2025-02-02 22:42', '2025-02-03 22:37', '2025-02-04 22:32', '2025-02-05 22:27', '2025-02-06 22:22', '2025-02-07 22:17', '2025-02-08 22:12', '2025-02-09 22:07', '2025-02-10 22:03', '2025-02-11 21:58', '2025-02-12 21:53', '2025-02-13 21:49', '2025-02-14 21:44', '2025-02-15 21:40', '2025-02-16 21:35', '2025-02-17 21:31', '2025-02-18 21:27', '2025-02-19 21:23', '2025-02-20 21:18', '2025-02-21 21:14', '2025-02-22 21:10', '2025-02-23 21:06', '2025-02-24 21:02', '2025-02-25 20:58', '2025-02-26 20:55', '2025-02-27 20:51', '2025-02-28 20:47', '2025-03-01 20:43', '2025-03-02 20:40', '2025-03-03 20:36', '2025-03-04 20:33', '2025-03-05 20:29', '2025-03-06 20:26', '2025-03-07 20:22', '2025-03-08 20:19', '2025-03-09 20:16', '2025-03-10 20:13', '2025-03-11 20:09', '2025-03-12 20:06', '2025-03-13 20:03', '2025-03-14 20:00', '2025-03-15 19:57', '2025-03-16 19:54', '2025-03-17 19:51', '2025-03-18 19:48', '2025-03-19 19:45', '2025-03-20 19:42', '2025-03-21 19:39', '2025-03-22 19:36', '2025-03-23 19:34', '2025-03-24 19:31', '2025-03-25 19:28', '2025-03-26 19:25', '2025-03-27 19:23', '2025-03-28 19:20', '2025-03-29 19:18', '2025-03-30 19:15', '2025-03-31 19:12', '2025-04-01 19:10', '2025-04-02 19:07', '2025-04-03 19:05', '2025-04-04 19:02', '2025-04-05 19:00', '2025-04-06 18:57', '2025-04-07 18:55', '2025-04-08 18:53', '2025-04-09 18:50', '2025-04-10 18:48', '2025-04-11 18:46', '2025-04-12 18:43', '2025-04-13 18:41', '2025-04-14 18:39', '2025-04-15 18:36', '2025-04-16 18:34', '2025-04-17 18:32', '2025-04-18 18:30', '2025-04-19 18:28', '2025-04-20 18:25', '2025-04-21 18:23', '2025-04-22 18:21', '2025-04-23 18:19', '2025-04-24 18:17', '2025-04-25 18:15', '2025-04-26 18:13', '2025-04-27 18:10', '2025-04-28 18:08', '2025-04-29 18:06', '2025-04-30 18:04', '2025-05-01 18:02', '2025-05-02 18:00', '2025-05-03 17:58', '2025-05-04 17:56', '2025-05-05 17:54', '2025-05-06 17:52', '2025-05-07 17:50', '2025-05-08 17:48', '2025-05-09 17:46', '2025-05-10 17:44', '2025-05-11 17:42', '2025-05-12 17:40', '2025-05-13 17:38', '2025-05-14 17:36', '2025-05-15 17:34', '2025-05-16 17:32', '2025-05-17 17:30', '2025-05-18 17:28', '2025-05-19 17:26', '2025-05-20 17:25', '2025-05-21 17:23', '2025-05-22 17:21', '2025-05-23 17:19', '2025-05-24 17:17', '2025-05-25 17:15', '2025-05-26 17:13', '2025-05-27 17:11', '2025-05-28 17:09', '2025-05-29 17:08', '2025-05-30 17:06', '2025-05-31 17:04', '2025-06-01 17:02', '2025-06-02 17:00', '2025-06-03 16:58', '2025-06-04 16:56', '2025-06-05 16:55', '2025-06-06 16:53', '2025-06-07 16:51', '2025-06-08 16:49', '2025-06-09 16:47', '2025-06-10 16:45', '2025-06-11 16:43', '2025-06-12 16:42', '2025-06-13 16:40', '2025-06-14 16:38', '2025-06-15 16:36', '2025-06-16 16:34', '2025-06-17 16:33', '2025-06-18 16:31', '2025-06-19 16:29', '2025-06-20 16:27', '2025-06-21 16:25', '2025-06-22 16:23', '2025-06-23 16:22', '2025-06-24 16:20', '2025-06-25 16:18', '2025-06-26 16:16', '2025-06-27 16:15', '2025-06-28 16:13', '2025-06-29 16:11', '2025-06-30 16:09', '2025-07-01 16:07', '2025-07-02 16:06', '2025-07-03 16:04', '2025-07-04 16:02', '2025-07-05 16:00', '2025-07-06 15:58', '2025-07-07 15:57', '2025-07-08 15:55', '2025-07-09 15:53', '2025-07-10 15:51', '2025-07-11 15:50', '2025-07-12 15:48', '2025-07-13 15:46', '2025-07-14 15:44', '2025-07-15 15:43', '2025-07-16 15:41', '2025-07-17 15:39', '2025-07-18 15:37', '2025-07-19 15:36', '2025-07-20 15:34', '2025-07-21 15:32', '2025-07-22 15:30', '2025-07-23 15:29', '2025-07-24 15:27', '2025-07-25 15:25', '2025-07-26 15:24', '2025-07-27 15:22', '2025-07-28 15:20', '2025-07-29 15:18', '2025-07-30 15:17', '2025-07-31 15:15', '2025-08-01 15:13', '2025-08-02 15:12', '2025-08-03 15:10', '2025-08-04 15:08', '2025-08-05 15:07', '2025-08-06 15:05', '2025-08-07 15:03', '2025-08-08 15:02', '2025-08-09 15:00', '2025-08-10 14:58', '2025-08-11 14:57', '2025-08-12 14:55', '2025-08-13 14:53', '2025-08-14 14:52', '2025-08-15 14:50', '2025-08-16 14:48', '2025-08-17 14:47', '2025-08-18 14:45', '2025-08-19 14:43', '2025-08-20 14:42', '2025-08-21 14:40', '2025-08-22 14:39', '2025-08-23 14:37', '2025-08-24 14:35', '2025-08-25 14:34', '2025-08-26 14:32', '2025-08-27 14:31', '2025-08-28 14:29', '2025-08-29 14:28', '2025-08-30 14:26', '2025-08-31 14:24', '2025-09-01 14:23', '2025-09-02 14:21', '2025-09-03 14:20', '2025-09-04 14:18']\n"
     ]
    }
   ],
   "source": [
    "# t0 = ts.utc(2020, 11, 6)\n",
    "# t1 = ts.utc(2020, 11, 8)\n",
    "t = almanac.find_transits(observer, eph['Mars'], t0, t1)\n",
    "\n",
    "print(t.utc_strftime('%Y-%m-%d %H:%M'))"
   ]
  },
  {
   "cell_type": "markdown",
   "metadata": {},
   "source": [
    "### Crépuscules"
   ]
  },
  {
   "cell_type": "code",
   "execution_count": 20,
   "metadata": {},
   "outputs": [
    {
     "name": "stdout",
     "output_type": "stream",
     "text": [
      "2024-09-05 05:32   Astronomical twilight starts\n",
      "2024-09-05 06:15   Nautical twilight starts\n",
      "2024-09-05 06:55   Civil twilight starts\n",
      "2024-09-05 07:28   Day starts\n",
      "2024-09-05 20:40   Day ends\n",
      "2024-09-05 21:13   Civil twilight ends\n",
      "2024-09-05 21:53   Nautical twilight ends\n",
      "2024-09-05 22:35   Astronomical twilight ends\n"
     ]
    }
   ],
   "source": [
    "# Figure out local midnight\n",
    "now = paris_tz.localize(datetime.now())\n",
    "midnight = now.replace(hour=0, minute=0, second=0, microsecond=0)\n",
    "next_midnight = midnight + timedelta(days=1)\n",
    "\n",
    "t0 = ts.from_datetime(midnight)\n",
    "t1 = ts.from_datetime(next_midnight)\n",
    "\n",
    "f = almanac.dark_twilight_day(eph, cherbourg)\n",
    "times, events = almanac.find_discrete(t0, t1, f)\n",
    "\n",
    "previous_e = f(t0).item()\n",
    "for t, e in zip(times, events):\n",
    "    tstr = str(t.astimezone(paris_tz))[:16]\n",
    "    if previous_e < e:\n",
    "        print(tstr, ' ', almanac.TWILIGHTS[e], 'starts')\n",
    "    else:\n",
    "        print(tstr, ' ', almanac.TWILIGHTS[previous_e], 'ends')\n",
    "    previous_e = e"
   ]
  },
  {
   "cell_type": "markdown",
   "metadata": {},
   "source": [
    "### Éclipses lunaires"
   ]
  },
  {
   "cell_type": "code",
   "execution_count": 21,
   "metadata": {},
   "outputs": [
    {
     "name": "stdout",
     "output_type": "stream",
     "text": [
      "closest_approach_radians  []\n",
      "moon_radius_radians       []\n",
      "penumbra_radius_radians   []\n",
      "penumbral_magnitude       []\n",
      "umbra_radius_radians      []\n",
      "umbral_magnitude          []\n"
     ]
    }
   ],
   "source": [
    "# from skyfield import eclipselib\n",
    "\n",
    "# t0 = ts.utc(2019, 1, 1)\n",
    "# t1 = ts.utc(2020, 1, 1)\n",
    "t, y, details = eclipselib.lunar_eclipses(t0, t1, eph)\n",
    "\n",
    "for ti, yi in zip(t, y):\n",
    "    print(ti.utc_strftime('%Y-%m-%d %H:%M'),\n",
    "          'y={}'.format(yi),\n",
    "          eclipselib.LUNAR_ECLIPSES[yi])\n",
    "    \n",
    "for name, values in sorted(details.items()):\n",
    "    print(f'{name:24}  {values}')"
   ]
  },
  {
   "cell_type": "code",
   "execution_count": 22,
   "metadata": {},
   "outputs": [
    {
     "name": "stdout",
     "output_type": "stream",
     "text": [
      "2025-01-10 05:01:36 UTC  47.2° east elongation\n",
      "2025-06-01 03:28:33 UTC  45.9° west elongation\n"
     ]
    }
   ],
   "source": [
    "from skyfield.api import load\n",
    "from skyfield.framelib import ecliptic_frame\n",
    "from skyfield.searchlib import find_maxima\n",
    "\n",
    "ts = load.timescale()\n",
    "# t0 = ts.utc(2019)\n",
    "# t1 = ts.utc(2022)\n",
    "\n",
    "eph = load('de421.bsp')\n",
    "sun, earth, venus = eph['sun'], eph['earth'], eph['venus']\n",
    "\n",
    "def elongation_at(t):\n",
    "    e = earth.at(t)\n",
    "    s = e.observe(sun).apparent()\n",
    "    v = e.observe(venus).apparent()\n",
    "    return s.separation_from(v).degrees\n",
    "\n",
    "elongation_at.step_days = 15.0\n",
    "\n",
    "times, elongations = find_maxima(t0, t2, elongation_at)\n",
    "\n",
    "for t, elongation_degrees in zip(times, elongations):\n",
    "    e = earth.at(t)\n",
    "    _, slon, _ = e.observe(sun).apparent().frame_latlon(ecliptic_frame)\n",
    "    _, vlon, _ = e.observe(venus).apparent().frame_latlon(ecliptic_frame)\n",
    "    is_east = (vlon.degrees - slon.degrees) % 360.0 < 180.0\n",
    "    direction = 'east' if is_east else 'west'\n",
    "    print('{}  {:4.1f}° {} elongation'.format(\n",
    "        t.utc_strftime(), elongation_degrees, direction))"
   ]
  }
 ],
 "metadata": {
  "kernelspec": {
   "display_name": "Python 3",
   "language": "python",
   "name": "python3"
  },
  "language_info": {
   "codemirror_mode": {
    "name": "ipython",
    "version": 3
   },
   "file_extension": ".py",
   "mimetype": "text/x-python",
   "name": "python",
   "nbconvert_exporter": "python",
   "pygments_lexer": "ipython3",
   "version": "3.11.9"
  }
 },
 "nbformat": 4,
 "nbformat_minor": 2
}
